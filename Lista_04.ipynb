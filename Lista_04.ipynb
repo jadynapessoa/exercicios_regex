{
  "nbformat": 4,
  "nbformat_minor": 0,
  "metadata": {
    "colab": {
      "provenance": [],
      "authorship_tag": "ABX9TyNMejNkKtg7btDkYlqJqhZl",
      "include_colab_link": true
    },
    "kernelspec": {
      "name": "python3",
      "display_name": "Python 3"
    },
    "language_info": {
      "name": "python"
    }
  },
  "cells": [
    {
      "cell_type": "markdown",
      "metadata": {
        "id": "view-in-github",
        "colab_type": "text"
      },
      "source": [
        "<a href=\"https://colab.research.google.com/github/jadynapessoa/exercicios_regex/blob/main/Lista_04.ipynb\" target=\"_parent\"><img src=\"https://colab.research.google.com/assets/colab-badge.svg\" alt=\"Open In Colab\"/></a>"
      ]
    },
    {
      "cell_type": "markdown",
      "source": [
        "# **Lista 4 - Regex**"
      ],
      "metadata": {
        "id": "uHvHZC31j6o2"
      }
    },
    {
      "cell_type": "markdown",
      "source": [
        "**Nos sites de notícias, é comum encontrarmos páginas com uma lista de links para as notícias publicadas, como por exemplo, a seção sobre política ou sobre esportes. Chamamos essas páginas de editorias.**\n",
        "\n",
        "**Seu quarto exercício será composto por duas partes.**\n",
        "\n",
        "**O site que deve utilizar é o https://www.r7.com/ para a realização do seu exercício.**"
      ],
      "metadata": {
        "id": "3Wbe4QV3kAuU"
      }
    },
    {
      "cell_type": "markdown",
      "source": [
        "**1º parte: você deve identificar o padrão de urls de editorias e notícias de um determinado site e escrever um (ou mais) regex para cada tipo que encontrar. Obs.: no mínimo um para cada tipo.**"
      ],
      "metadata": {
        "id": "9xIrxNPbl6NO"
      }
    },
    {
      "cell_type": "code",
      "source": [
        "#EDITORIAS\n",
        "editoria = '''\n",
        "https://noticias.r7.com/brasilia\n",
        "https://noticias.r7.com/sao-paulo\n",
        "https://noticias.r7.com/rio-de-janeiro\n",
        "https://noticias.r7.com/minas-gerais\n",
        "https://noticias.r7.com/pernambuco\n",
        "'''\n",
        "#https://regex101.com/r/P00Ofe/1\n",
        "regexEditoria = https:\\/\\/[\\w-]+.r7\\.com\\/[\\w-]*\n",
        "\n",
        "#NOTÍCIAS\n",
        "noticia = '''\n",
        "https://noticias.r7.com/prisma/christina-lemos\n",
        "https://noticias.r7.com/prisma/blog-do-nolasco\n",
        "'''\n",
        "\n",
        "#https://regex101.com/r/yFsLLP/1\n",
        "regexNoticia =\\https:\\/\\/[\\w+]*\\.[\\w+\\/-\\/.-]+"
      ],
      "metadata": {
        "id": "GS0W5J5nmBdk"
      },
      "execution_count": null,
      "outputs": []
    },
    {
      "cell_type": "markdown",
      "source": [
        "**2º parte: você deve escrever regex para encontrar o título, a data de publicação e o texto das notícias desse mesmo site.**"
      ],
      "metadata": {
        "id": "J06M3plhmBnM"
      }
    },
    {
      "cell_type": "code",
      "source": [
        "#TITULO\n",
        "titulo = <h1 class=\"toolkit-title\">'Pode avisar que é palmeirense', revela pai de bebê que quase nasceu em rodovia de SP</h1>\n",
        "\n",
        "#https://regex101.com/r/64KKBR/1\n",
        "regexTitulo = \\<h1 class=\"toolkit-title\">(.*?)</h1>(.*)\n",
        "\n",
        "#DATA\n",
        "data = '<time datetime=\"2023-02-02T11:34:00-03:00\" class=\"toolkit-signature__publication-time\">'\n",
        "\n",
        "#https://regex101.com/r/obzXnn/1\n",
        "regexData = <time datetime=\"[0-9-]*(.*)\n",
        "\n",
        "#TEXTO\n",
        "texto = '<span class=\"toolkit-image-container__credit credit_box \">Arquivo pessoal</span>'\n",
        "\n",
        "#https://regex101.com/r/qYXRHR/1\n",
        "regexTexto =<span class=\"toolkit-image-container__credit credit_box \">(.*)</span>"
      ],
      "metadata": {
        "id": "RcQCHi4EmBym"
      },
      "execution_count": null,
      "outputs": []
    }
  ]
}