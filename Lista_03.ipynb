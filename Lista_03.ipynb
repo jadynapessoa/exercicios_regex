{
  "nbformat": 4,
  "nbformat_minor": 0,
  "metadata": {
    "colab": {
      "provenance": [],
      "authorship_tag": "ABX9TyO/4MebtQnjME8i/5uhGstn",
      "include_colab_link": true
    },
    "kernelspec": {
      "name": "python3",
      "display_name": "Python 3"
    },
    "language_info": {
      "name": "python"
    }
  },
  "cells": [
    {
      "cell_type": "markdown",
      "metadata": {
        "id": "view-in-github",
        "colab_type": "text"
      },
      "source": [
        "<a href=\"https://colab.research.google.com/github/jadynapessoa/exercicios_regex/blob/main/Lista_03.ipynb\" target=\"_parent\"><img src=\"https://colab.research.google.com/assets/colab-badge.svg\" alt=\"Open In Colab\"/></a>"
      ]
    },
    {
      "cell_type": "markdown",
      "source": [
        "# **Lista 3 - Regex**"
      ],
      "metadata": {
        "id": "2ix6_oudj19G"
      }
    },
    {
      "cell_type": "markdown",
      "source": [
        "**Nos sites de notícias, é comum encontrarmos páginas com uma lista de links para as notícias publicadas, como por exemplo, a seção sobre política ou sobre esportes. Chamamos essas páginas de editorias.**\n",
        "\n",
        "**Seu terceiro exercício será composto por duas partes.**\n",
        "**O site que deve utilizar é o https://g1.globo.com/ para a realização do seu exercício.**\n",
        "\n"
      ],
      "metadata": {
        "id": "GTsfTumzj5d8"
      }
    },
    {
      "cell_type": "markdown",
      "source": [
        "**1º parte: você deve identificar o padrão de urls de editorias e notícias de um determinado site e escrever um (ou mais) regex para cada tipo que encontrar. Obs.: no mínimo um para cada tipo.**\n"
      ],
      "metadata": {
        "id": "4wNSVEHukNRd"
      }
    },
    {
      "cell_type": "code",
      "source": [
        "#EDITORIAS\n",
        "editoria = '''\n",
        "https://g1.globo.com/rj/rio-de-janeiro/noticia/2023/02/02/gloria-maria-morre-no-rio.ghtml\n",
        "https://g1.globo.com/sp/vale-do-paraiba-regiao/noticia/2023/02/02/cerca-de-80-mil-alunos-da-rede-municipal-voltam-as-aulas-em-sao-jose-dos-campos.ghtml#G1-FEED-BOX-user,recentes,30fc7f48-d2b0-46d2-828d-bce50d3e34c2\n",
        "https://g1.globo.com/mt/mato-grosso/noticia/2023/02/02/policia-cumpre-mandados-contra-organizacao-criminosa-envolvida-em-sequestro-homicidio-e-ocultacao-de-cadaver-em-mt.ghtml#G1-FEED-BOX-user,recentes,30fc7f48-d2b0-46d2-828d-bce50d3e34c\n",
        "'''\n",
        "#https://regex101.com/r/NCHsDv/1\n",
        "\n",
        "regexEditoria = g1.globo.com\\/[\\w-]+\\/\n",
        "#(restritivo): noticia/blog\n",
        "\n",
        "#NOTÍCIAS\n",
        "noticias = '''\n",
        "https://g1.globo.com/politica/noticia/2023/02/01/camara-e-senado-escolhem-presidentes-nesta-quarta-lira-e-pacheco-tentam-a-reeleicao.ghtml\n",
        "https://g1.globo.com/ciencia/noticia/2023/02/01/como-achar-o-cometa-verde-que-esta-de-passagem-pelo-ceu-do-brasil-astronomo-da-dicas-para-ver-o-astro.ghtml\n",
        "https://g1.globo.com/pop-arte/musica/noticia/2023/02/01/ze-neto-e-cristiano-citam-licoes-apos-polemicas-nao-perca-tempo-com-discussoes-de-politica-religiao-futebol.ghtml\n",
        "https://g1.globo.com/economia/blog/ana-flor/post/2023/02/07/para-governo-ata-mais-amena-do-copom-e-sinal-esperado-para-melhora-de-relacao-com-banco-central.ghtml\n",
        "'''\n",
        "#https://regex101.com/r/lr6Ghk/1\n",
        "regexNoticia = g1.globo.com/([\\w-]+|[\\w-]+/[\\w-]+|[\\w-]+/[\\w-]+/[\\w-]+|[\\w-]+/[\\w-]+/[\\w-]+/[\\w-]+)/(noticia|blog)\n"
      ],
      "metadata": {
        "id": "gruQeczAkd70"
      },
      "execution_count": null,
      "outputs": []
    },
    {
      "cell_type": "markdown",
      "source": [
        "**2º parte: você deve escrever regex para encontrar o título, a data de publicação e o texto das notícias desse mesmo site.**"
      ],
      "metadata": {
        "id": "PbH8j8oEla7v"
      }
    },
    {
      "cell_type": "code",
      "source": [
        "#TÍTULO\n",
        "titulo = '<h1 class=\"content-head__title\" itemprop=\"headline\">Morre a jornalista Glória Maria, ícone da TV</h1>'\n",
        "regexTitulo = <h1 class=\"content-head__title\" itemprop=\"headline\">(.*?)</h1>(.*)\n",
        "\n",
        "\n",
        "\n",
        "#DATA\n",
        "data = '<time itemprop=\"datePublished\" datetime=\"2023-02-02T11:53:01.877Z\"> 02/02/2023 08h53 </time>'\n",
        "#https://regex101.com/r/RRVHne/1\n",
        "regexData = <time itemprop=\"datePublished\" datetime=(.*?)T(.*)\n",
        "\n",
        "\n",
        "#TEXTO\n",
        "texto = '''\n",
        "<article itemprop=\"articleBody\">O ministro da Fazenda, <a href=\"https://g1.globo.com/politica/politico/fernando-haddad/\">Fernando Haddad</a>, \n",
        "afirmou nesta terça-feira (7) que a ata do Comitê de Poítica Monetária (Copom), divulgada mais cedo pelo Banco Central, foi mais \"analítica\" e \"amigável\".</article>\n",
        "'''\n",
        "#https://regex101.com/r/DKxSS8/1\n",
        "regexTexto = <article itemprop=\"articleBody\">(.*?)O ministro da Fazenda(.*?)(.*\\s)*"
      ],
      "metadata": {
        "id": "3TxdxfM3lbU8"
      },
      "execution_count": null,
      "outputs": []
    }
  ]
}