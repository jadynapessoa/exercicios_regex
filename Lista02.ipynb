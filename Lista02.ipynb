{
  "cells": [
    {
      "cell_type": "markdown",
      "metadata": {
        "id": "view-in-github",
        "colab_type": "text"
      },
      "source": [
        "<a href=\"https://colab.research.google.com/github/jadynapessoa/exercicios_regex/blob/main/Lista02.ipynb\" target=\"_parent\"><img src=\"https://colab.research.google.com/assets/colab-badge.svg\" alt=\"Open In Colab\"/></a>"
      ]
    },
    {
      "cell_type": "markdown",
      "metadata": {
        "id": "OskSzspsurri"
      },
      "source": [
        "# **Lista 2 - Regex**"
      ]
    },
    {
      "cell_type": "markdown",
      "metadata": {
        "id": "epQAaJjVuuRx"
      },
      "source": [
        "**Nos sites de notícias, é comum encontrarmos páginas com uma lista de links para as notícias publicadas, como por exemplo, a seção sobre política ou sobre esportes. Chamamos essas páginas de editorias.**\n",
        "\n",
        "**Seu segundo exercício será composto por duas partes.\n",
        "O site que deve utilizar é o https://tecnoblog.net/ para a realização do seu exercício.**"
      ]
    },
    {
      "cell_type": "markdown",
      "metadata": {
        "id": "3GJ7ktY-vbbf"
      },
      "source": [
        "**1º parte: Nos sites de notícias, é comum encontrarmos páginas com uma lista de links para as notícias publicadas, como por exemplo, a seção sobre política ou sobre esportes. Chamamos essas páginas de editorias.**"
      ]
    },
    {
      "cell_type": "code",
      "execution_count": null,
      "metadata": {
        "id": "pbjLVu_Ivvq3"
      },
      "outputs": [],
      "source": [
        "editorias = '''\n",
        "https://tecnoblog.net/politica-de-privacidade/\n",
        "https://tecnoblog.net/achados/\n",
        "https://tecnoblog.net/especiais/\n",
        "https://tecnoblog.net/guias/\n",
        "https://tecnoblog.net/noticias/\n",
        "https://tecnoblog.net/testamos/\n",
        "https://tecnoblog.net/responde/\n",
        "https://tecnoblog.net/stories/\n",
        "https://tecnoblog.net/tecnocast/\n",
        "https://tecnoblog.net/hit-kill/\n",
        "https://tecnoblog.net/responde/\n",
        "https://tecnoblog.net/anuncie/\n",
        "https://tecnoblog.net/vagas/\n",
        "https://tecnoblog.net/sobre/\n",
        "https://tecnoblog.net/contato/\n",
        "https://tecnoblog.net/etica/\n",
        "https://tecnoblog.net/politica-de-privacidade/\n",
        "'''\n",
        "regexEditoria = tecnoblog.net/[\\w-]+/$\n",
        "\n",
        "noticias = '''\n",
        "https://tecnoblog.net/achados/2023/02/02/melhores-promocoes-do-2-2-na-shopee-e-aliexpress-para-eletronicos/\n",
        "https://tecnoblog.net/noticias/2023/02/01/youtube-shorts-comeca-a-dividir-dinheiro-de-propaganda-com-criadores/\n",
        "https://tecnoblog.net/stories/apple-music-chega-no-xbox-app-para-windows-sera-lancado-em-breve/\n",
        "'''\n",
        "#https://regex101.com/r/vBk2D5/1\n",
        "regexNoticia = tecnoblog.net/(noticias|achados)\\/+[\\d]*\\/\n",
        "#restritivo: stories\n"
      ]
    },
    {
      "cell_type": "markdown",
      "metadata": {
        "id": "eDmsE1c_v2_x"
      },
      "source": [
        "**2º parte: Você deve escrever regex para encontrar o título, a data de publicação e o texto das notícias desse mesmo site.**"
      ]
    },
    {
      "cell_type": "code",
      "execution_count": null,
      "metadata": {
        "colab": {
          "background_save": true
        },
        "id": "OHgNfOtuv75I",
        "outputId": "96e4b282-8146-4ad9-d694-b2b2adcebd72"
      },
      "outputs": [
        {
          "ename": "SyntaxError",
          "evalue": "ignored",
          "output_type": "error",
          "traceback": [
            "\u001b[0;36m  File \u001b[0;32m\"<ipython-input-1-4fffe5ec7f14>\"\u001b[0;36m, line \u001b[0;32m1\u001b[0m\n\u001b[0;31m    Link da noticia: https://tecnoblog.net/noticias/2023/02/06/google-apresenta-bard-sua-ia-de-conversas-para-concorrer-com-chatgpt/\u001b[0m\n\u001b[0m         ^\u001b[0m\n\u001b[0;31mSyntaxError\u001b[0m\u001b[0;31m:\u001b[0m invalid syntax\n"
          ]
        }
      ],
      "source": [
        "Link da noticia: https://tecnoblog.net/noticias/2023/02/06/google-apresenta-bard-sua-ia-de-conversas-para-concorrer-com-chatgpt/\n",
        "\n",
        "\n",
        "regexTitulo = <h1 class=\"flipboard-title title\" itemprop=\"headline\">(.*?)</h1>(.*)\n",
        "\n",
        "regexData = <time datetime=(.*?)T(.*)\n",
        "\n",
        "#regex: https://regex101.com/r/17HBHE/1\n",
        "regexTexto = <div class=\"entry grid8\">(.*?)<nav class=\"tags\">"
      ]
    }
  ],
  "metadata": {
    "colab": {
      "provenance": [],
      "authorship_tag": "ABX9TyPK9AXLdiCK3EXuYMXVNq3N",
      "include_colab_link": true
    },
    "kernelspec": {
      "display_name": "Python 3",
      "name": "python3"
    },
    "language_info": {
      "name": "python"
    }
  },
  "nbformat": 4,
  "nbformat_minor": 0
}