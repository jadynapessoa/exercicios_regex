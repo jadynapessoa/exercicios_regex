{
  "nbformat": 4,
  "nbformat_minor": 0,
  "metadata": {
    "colab": {
      "provenance": [],
      "toc_visible": true,
      "authorship_tag": "ABX9TyPMzEbiFH/8nuBEc5LuVuwP",
      "include_colab_link": true
    },
    "kernelspec": {
      "name": "python3",
      "display_name": "Python 3"
    },
    "language_info": {
      "name": "python"
    }
  },
  "cells": [
    {
      "cell_type": "markdown",
      "metadata": {
        "id": "view-in-github",
        "colab_type": "text"
      },
      "source": [
        "<a href=\"https://colab.research.google.com/github/jadynapessoa/exercicios_regex/blob/main/Lista_01.ipynb\" target=\"_parent\"><img src=\"https://colab.research.google.com/assets/colab-badge.svg\" alt=\"Open In Colab\"/></a>"
      ]
    },
    {
      "cell_type": "markdown",
      "source": [
        "# **Lista 1 - Regex**"
      ],
      "metadata": {
        "id": "OXo0y4HsuFO5"
      }
    },
    {
      "cell_type": "markdown",
      "source": [
        "1. **Faça um regex para capturar os cpfs presentes no trecho abaixo.**\n",
        "**Obs.: o regex precisa casar com cpfs com ou sem pontuação (772.843.809-34 ou 77284380934)**"
      ],
      "metadata": {
        "id": "4SMEIYaHsaEJ"
      }
    },
    {
      "cell_type": "code",
      "source": [
        "import re\n",
        "\n",
        "texto = '''\n",
        "Maria foi ao Na Hora e recebeu seu novo CPF (772.843.809-34), \n",
        "porém, para confirmar o número do seu novo documento, foi pedido que na hora \n",
        "de digitar no sistema, que digitasse sem a pontuação, então ela digitou 77284380934.'''\n",
        "\n",
        "\n",
        "cpf = re.findall('\\d{3}.\\d{3}.\\d{3}-\\d{2}|\\d{11}', texto)\n",
        "print('O cpfs encontrados foram: {}'.format(cpf))"
      ],
      "metadata": {
        "id": "9lTy1ZMhsrIi",
        "colab": {
          "base_uri": "https://localhost:8080/"
        },
        "outputId": "869a75d1-74f2-4038-8d37-5d46df3a2468"
      },
      "execution_count": null,
      "outputs": [
        {
          "output_type": "stream",
          "name": "stdout",
          "text": [
            "O cpfs encontrados foram: ['772.843.809-34', '77284380934']\n"
          ]
        }
      ]
    },
    {
      "cell_type": "markdown",
      "source": [
        "**2. Encontre a data e hora no texto abaixo.**"
      ],
      "metadata": {
        "id": "oxJP6xfHtW9e"
      }
    },
    {
      "cell_type": "code",
      "source": [
        "import re\n",
        "texto = 'O sistema vai parar para uma manutenção programada no dia 10/09/2020 às 23:00.'\n",
        "\n",
        "data = re.findall('\\d{2}.\\d{2}.\\d{4}', texto)\n",
        "hora = re.findall('\\d{2}:\\d{2}', texto)\n",
        "\n",
        "\n",
        "print('O sistema está programado para o dia {} no horário das {}'.format(data,hora))\n"
      ],
      "metadata": {
        "id": "MWIMz-yktt8h",
        "colab": {
          "base_uri": "https://localhost:8080/"
        },
        "outputId": "1b911c54-f612-4e8b-cac7-91ca2a847c33"
      },
      "execution_count": null,
      "outputs": [
        {
          "output_type": "stream",
          "name": "stdout",
          "text": [
            "O sistema está programado para o dia ['10/09/2020'] no horário das ['23:00']\n"
          ]
        }
      ]
    },
    {
      "cell_type": "markdown",
      "source": [
        "3. Escreva um regex que encontre o conteúdo do atributo href do link no html a seguir (somente o endereço)."
      ],
      "metadata": {
        "id": "wtH65Q_Dt0Tg"
      }
    },
    {
      "cell_type": "code",
      "source": [
        "import re\n",
        "\n",
        "html ='''\n",
        "<html>\n",
        "  <head><title>Exercícios</title></head>\n",
        "  <body>\n",
        "    <p>Menu</p>\n",
        "    <ul>\n",
        "      <li><a href=\"https://google.com\">Google</a></li>\n",
        "    </ul>\n",
        "</html> \n",
        "'''\n",
        "\n",
        "print(re.search(r'(https:\\/\\/)?\\w+\\.com', html))"
      ],
      "metadata": {
        "id": "rHAKyg4Ot3Ox",
        "colab": {
          "base_uri": "https://localhost:8080/"
        },
        "outputId": "c3de5f58-446c-48da-d9e1-13a57327f62c"
      },
      "execution_count": null,
      "outputs": [
        {
          "output_type": "stream",
          "name": "stdout",
          "text": [
            "<re.Match object; span=(102, 120), match='https://google.com'>\n"
          ]
        }
      ]
    },
    {
      "cell_type": "markdown",
      "source": [
        "4. Encontre o texto dentro da tag h1 abaixo."
      ],
      "metadata": {
        "id": "F5dBX2f_t8JK"
      }
    },
    {
      "cell_type": "code",
      "source": [
        "import re\n",
        "\n",
        "html = '''\n",
        "<html>\n",
        "  <head><title>Exercícios</title></head>\n",
        "  <body>\n",
        "    <h1>Exercícios</h1>\n",
        "    <table>\n",
        "      <thead>\n",
        "        <th>#</th>\n",
        "        <th>Questão</th>\n",
        "      </thead>\n",
        "      <tbody>\n",
        "        <tr>\n",
        "          <td>1</td>\n",
        "          <td>Primeiro exercício de regex</td>\n",
        "        </tr>\n",
        "      </tbody>\n",
        "    </table>\n",
        "</html>\n",
        "'''\n",
        "\n",
        "print(re.findall(r'\\<h1>(\\w+)<\\/h1>', html))"
      ],
      "metadata": {
        "id": "TcwC-STxt-tC",
        "colab": {
          "base_uri": "https://localhost:8080/"
        },
        "outputId": "c52b0411-4d8b-4eca-ab50-2e1ac72617f7"
      },
      "execution_count": null,
      "outputs": [
        {
          "output_type": "stream",
          "name": "stdout",
          "text": [
            "['Exercícios']\n"
          ]
        }
      ]
    }
  ]
}